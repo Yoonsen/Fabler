{
 "cells": [
  {
   "cell_type": "markdown",
   "metadata": {},
   "source": [
    "# Fabler av Tor Åge Bringsværd"
   ]
  },
  {
   "cell_type": "code",
   "execution_count": 45,
   "metadata": {},
   "outputs": [
    {
     "data": {
      "text/html": [
       "<style>@import url(\n",
       "http://fonts.googleapis.com/css?family=Lato|Philosopher|Montserrat|Source+Code+Pro|Istok+Web|Philosopher|Assistant:200,400,700);\n",
       "\n",
       "/*\n",
       "#notebook-container {\n",
       "\t-webkit-box-shadow: none;\n",
       "\tbox-shadow: none;\n",
       "}\n",
       "*/\n",
       "\n",
       "h1, h2, h3, h4, h5, h6 {\n",
       "\tfont-family: 'Montserrat', sans-serif;\n",
       "\tline-height: 2em;\n",
       "    color: #004f99;\n",
       "    font-weight: 600;\n",
       "}\n",
       "\n",
       "h1 { font-size: 4.5em; }\n",
       "h2 { font-size: 4em; }\n",
       "h3 { font-size: 3.5em; }\n",
       "h4 { font-size: 3em; }\n",
       "h5 { font-size: 2.5em; color:DarkSlateGray; }\n",
       "h6 { font-size: 2em; }\n",
       "\n",
       "p {\n",
       "\tfont-family: 'Assistant', sans-serif; \n",
       "\tfont-size: 1.2em;\n",
       "\tline-height: 1.4em;\n",
       "\tcolor: black;\n",
       "}\n",
       "p code {\n",
       "\tfont-size:0.9em;\n",
       "}\n",
       "div.input_area {\n",
       "\tborder:none !important;\n",
       "\tborder-left:1px solid #ff851b !important\n",
       "}\n",
       "\n",
       "span.cm-keyword {\n",
       "\tcolor:#339966 !important;\n",
       "}\n",
       "span.nn {  /*span.cm-variable, span.cm-property*/\n",
       "\tcolor: #3399ff !important;\n",
       "}\n",
       "div.CodeMirror {\n",
       "\tfont-family: 'Inconsolata', monospace;\n",
       "\tfont-size: 1.1em;\n",
       "\t\n",
       "}\n",
       "</style>"
      ],
      "text/plain": [
       "<IPython.core.display.HTML object>"
      ]
     },
     "execution_count": 45,
     "metadata": {},
     "output_type": "execute_result"
    }
   ],
   "source": [
    "import dhlab.nbtext as nb\n",
    "import dhlab.module_update as mu\n",
    "import pandas as pd\n",
    "mu.css()"
   ]
  },
  {
   "cell_type": "code",
   "execution_count": 67,
   "metadata": {},
   "outputs": [
    {
     "data": {
      "text/html": [
       "<div>\n",
       "                <style>\n",
       "                 .mybutton {\n",
       "                    background-color: lightgrey;\n",
       "                    border: none;\n",
       "                    color: white;\n",
       "                    padding: 10px 16px;\n",
       "                    text-align: center;\n",
       "                    text-decoration: none;\n",
       "                    display: inline-block;\n",
       "                    font-size: 16px;\n",
       "                    margin: 4px 2px;\n",
       "                    cursor: pointer;\n",
       "                }\n",
       "            </style>\n",
       "            <script>\n",
       "                code_show=true; \n",
       "                function code_toggle() {\n",
       "                 if (code_show){\n",
       "                 $('div.input').hide();\n",
       "                 } else {\n",
       "                 $('div.input').show();\n",
       "                 }\n",
       "                 code_show = !code_show\n",
       "                } \n",
       "                $( document ).ready(code_toggle);\n",
       "            </script>\n",
       "            <form  action=\"javascript:code_toggle()\">\n",
       "                <input class='mybutton' type=\"submit\" value=\"Klikk for å vise/skjule kodeceller\">\n",
       "            </form>\n",
       "        </div>"
      ],
      "text/plain": [
       "<IPython.core.display.HTML object>"
      ]
     },
     "metadata": {},
     "output_type": "display_data"
    }
   ],
   "source": [
    "mu.code_toggle()"
   ]
  },
  {
   "cell_type": "code",
   "execution_count": 27,
   "metadata": {},
   "outputs": [],
   "source": [
    "def categorize(list_of_words):\n",
    "    proprium = [x for x in list_of_words if x[0].upper() == x[0]]\n",
    "    other = [x for x in list_of_words if not x in proprium]\n",
    "\n",
    "    return {'propr':proprium,\n",
    "           'other': other }\n",
    "\n",
    "def select_form(w):\n",
    "    fs = [x.split()[0] for x in nb.word_form(w)]\n",
    "    if 'verb' in fs:\n",
    "        res = 'verb'\n",
    "    elif 'subst' in fs:\n",
    "        res = 'subst'\n",
    "    elif len(fs) > 0:\n",
    "        res = fs[0]\n",
    "    else:\n",
    "        res = 'unknown'\n",
    "    return res\n",
    "\n",
    "def sort_word_forms(words):\n",
    "    res = {select_form(w):w for w in words}\n",
    "    return res\n",
    "\n",
    "def character_words(Character_name, number_of_words=50):\n",
    "    res = {w:select_form(w) for w in categorize(list(nb.frame_sort(nb.frame(coll_matrix[Character_name]/tot['tot'], 'association')).head(number_of_words).index))['other']}\n",
    "    result = {cat:[w for w in res if res[w] == cat] for cat in res.values()}\n",
    "    return result"
   ]
  },
  {
   "cell_type": "markdown",
   "metadata": {},
   "source": [
    "Henter alle bøkene - viser de øverste treffene"
   ]
  },
  {
   "cell_type": "code",
   "execution_count": 10,
   "metadata": {},
   "outputs": [],
   "source": [
    "bring = nb.book_corpus(author = 'Bringsv%tor%', limit = 400)\n",
    "len(bring)"
   ]
  },
  {
   "cell_type": "code",
   "execution_count": 69,
   "metadata": {},
   "outputs": [
    {
     "data": {
      "text/html": [
       "<div>\n",
       "<style scoped>\n",
       "    .dataframe tbody tr th:only-of-type {\n",
       "        vertical-align: middle;\n",
       "    }\n",
       "\n",
       "    .dataframe tbody tr th {\n",
       "        vertical-align: top;\n",
       "    }\n",
       "\n",
       "    .dataframe thead th {\n",
       "        text-align: right;\n",
       "    }\n",
       "</style>\n",
       "<table border=\"1\" class=\"dataframe\">\n",
       "  <thead>\n",
       "    <tr style=\"text-align: right;\">\n",
       "      <th></th>\n",
       "      <th>urn</th>\n",
       "      <th>author</th>\n",
       "      <th>title</th>\n",
       "      <th>year</th>\n",
       "    </tr>\n",
       "  </thead>\n",
       "  <tbody>\n",
       "    <tr>\n",
       "      <th>0</th>\n",
       "      <td>2010111508041</td>\n",
       "      <td>Bringsværd, Tor Åge</td>\n",
       "      <td>Gobi</td>\n",
       "      <td>1991</td>\n",
       "    </tr>\n",
       "    <tr>\n",
       "      <th>1</th>\n",
       "      <td>2011071406096</td>\n",
       "      <td>Bringsværd, Tor Åge</td>\n",
       "      <td>Kaptein Puma og det farlige romuhyret</td>\n",
       "      <td>2005</td>\n",
       "    </tr>\n",
       "    <tr>\n",
       "      <th>2</th>\n",
       "      <td>2016021807523</td>\n",
       "      <td>Bringsværd, Tor Åge</td>\n",
       "      <td>Jørgen Moes vei nr. 13</td>\n",
       "      <td>2006</td>\n",
       "    </tr>\n",
       "    <tr>\n",
       "      <th>3</th>\n",
       "      <td>2012031606058</td>\n",
       "      <td>Bringsværd, Tor Åge</td>\n",
       "      <td>Heimdalls sønner</td>\n",
       "      <td>1987</td>\n",
       "    </tr>\n",
       "    <tr>\n",
       "      <th>4</th>\n",
       "      <td>2015042808047</td>\n",
       "      <td>Bringsværd, Tor Åge</td>\n",
       "      <td>Karsten og Petra</td>\n",
       "      <td>1994</td>\n",
       "    </tr>\n",
       "    <tr>\n",
       "      <th>5</th>\n",
       "      <td>2008091800097</td>\n",
       "      <td>Bringsværd, Tor Åge</td>\n",
       "      <td>Fellini og grevlingmysteriet</td>\n",
       "      <td>1999</td>\n",
       "    </tr>\n",
       "    <tr>\n",
       "      <th>6</th>\n",
       "      <td>2007080304025</td>\n",
       "      <td>Bringsværd, Tor Åge</td>\n",
       "      <td>Bazar</td>\n",
       "      <td>1970</td>\n",
       "    </tr>\n",
       "    <tr>\n",
       "      <th>7</th>\n",
       "      <td>2008020404021</td>\n",
       "      <td>Bringsværd, Tor Åge</td>\n",
       "      <td>Karsten og Petra kjører brannbil</td>\n",
       "      <td>1994</td>\n",
       "    </tr>\n",
       "    <tr>\n",
       "      <th>8</th>\n",
       "      <td>2014052606036</td>\n",
       "      <td>Bringsværd, Tor Åge</td>\n",
       "      <td>Karsten og Petra går på skøyter</td>\n",
       "      <td>2008</td>\n",
       "    </tr>\n",
       "    <tr>\n",
       "      <th>9</th>\n",
       "      <td>2016021608094</td>\n",
       "      <td>Bringsværd, Tor Åge</td>\n",
       "      <td>Landet hvor alt er annerledes</td>\n",
       "      <td>1980</td>\n",
       "    </tr>\n",
       "  </tbody>\n",
       "</table>\n",
       "</div>"
      ],
      "text/plain": [
       "             urn               author                                  title  \\\n",
       "0  2010111508041  Bringsværd, Tor Åge                                   Gobi   \n",
       "1  2011071406096  Bringsværd, Tor Åge  Kaptein Puma og det farlige romuhyret   \n",
       "2  2016021807523  Bringsværd, Tor Åge                 Jørgen Moes vei nr. 13   \n",
       "3  2012031606058  Bringsværd, Tor Åge                       Heimdalls sønner   \n",
       "4  2015042808047  Bringsværd, Tor Åge                       Karsten og Petra   \n",
       "5  2008091800097  Bringsværd, Tor Åge           Fellini og grevlingmysteriet   \n",
       "6  2007080304025  Bringsværd, Tor Åge                                  Bazar   \n",
       "7  2008020404021  Bringsværd, Tor Åge       Karsten og Petra kjører brannbil   \n",
       "8  2014052606036  Bringsværd, Tor Åge        Karsten og Petra går på skøyter   \n",
       "9  2016021608094  Bringsværd, Tor Åge          Landet hvor alt er annerledes   \n",
       "\n",
       "   year  \n",
       "0  1991  \n",
       "1  2005  \n",
       "2  2006  \n",
       "3  1987  \n",
       "4  1994  \n",
       "5  1999  \n",
       "6  1970  \n",
       "7  1994  \n",
       "8  2008  \n",
       "9  1980  "
      ]
     },
     "execution_count": 69,
     "metadata": {},
     "output_type": "execute_result"
    }
   ],
   "source": [
    "bring.head(10)"
   ]
  },
  {
   "cell_type": "markdown",
   "metadata": {},
   "source": [
    "Summerer alle ordene i alle tekstene i korpuset, som skal brukes til sammenligning med bokhylla ellers"
   ]
  },
  {
   "cell_type": "code",
   "execution_count": 12,
   "metadata": {},
   "outputs": [],
   "source": [
    "bring_agg = nb.aggregate_urns(nb.pure_urn(bring))"
   ]
  },
  {
   "cell_type": "code",
   "execution_count": 14,
   "metadata": {},
   "outputs": [],
   "source": [
    "bring_df = nb.frame(bring_agg, 'counts')"
   ]
  },
  {
   "cell_type": "code",
   "execution_count": 71,
   "metadata": {},
   "outputs": [
    {
     "data": {
      "text/html": [
       "<div>\n",
       "<style scoped>\n",
       "    .dataframe tbody tr th:only-of-type {\n",
       "        vertical-align: middle;\n",
       "    }\n",
       "\n",
       "    .dataframe tbody tr th {\n",
       "        vertical-align: top;\n",
       "    }\n",
       "\n",
       "    .dataframe thead th {\n",
       "        text-align: right;\n",
       "    }\n",
       "</style>\n",
       "<table border=\"1\" class=\"dataframe\">\n",
       "  <thead>\n",
       "    <tr style=\"text-align: right;\">\n",
       "      <th></th>\n",
       "      <th>counts</th>\n",
       "    </tr>\n",
       "  </thead>\n",
       "  <tbody>\n",
       "    <tr>\n",
       "      <th>.</th>\n",
       "      <td>0.073112</td>\n",
       "    </tr>\n",
       "    <tr>\n",
       "      <th>,</th>\n",
       "      <td>0.027570</td>\n",
       "    </tr>\n",
       "    <tr>\n",
       "      <th>og</th>\n",
       "      <td>0.023162</td>\n",
       "    </tr>\n",
       "    <tr>\n",
       "      <th>det</th>\n",
       "      <td>0.016430</td>\n",
       "    </tr>\n",
       "    <tr>\n",
       "      <th>er</th>\n",
       "      <td>0.015467</td>\n",
       "    </tr>\n",
       "  </tbody>\n",
       "</table>\n",
       "</div>"
      ],
      "text/plain": [
       "       counts\n",
       ".    0.073112\n",
       ",    0.027570\n",
       "og   0.023162\n",
       "det  0.016430\n",
       "er   0.015467"
      ]
     },
     "execution_count": 71,
     "metadata": {},
     "output_type": "execute_result"
    }
   ],
   "source": [
    "nb.frame_sort(bring_df).head(5)"
   ]
  },
  {
   "cell_type": "markdown",
   "metadata": {},
   "source": [
    "Henter 50000 ord fra bokhylla"
   ]
  },
  {
   "cell_type": "code",
   "execution_count": 13,
   "metadata": {},
   "outputs": [],
   "source": [
    "totals = nb.frame(nb.totals(50000), 'tot')"
   ]
  },
  {
   "cell_type": "code",
   "execution_count": 72,
   "metadata": {},
   "outputs": [
    {
     "data": {
      "text/html": [
       "<div>\n",
       "<style scoped>\n",
       "    .dataframe tbody tr th:only-of-type {\n",
       "        vertical-align: middle;\n",
       "    }\n",
       "\n",
       "    .dataframe tbody tr th {\n",
       "        vertical-align: top;\n",
       "    }\n",
       "\n",
       "    .dataframe thead th {\n",
       "        text-align: right;\n",
       "    }\n",
       "</style>\n",
       "<table border=\"1\" class=\"dataframe\">\n",
       "  <thead>\n",
       "    <tr style=\"text-align: right;\">\n",
       "      <th></th>\n",
       "      <th>tot</th>\n",
       "    </tr>\n",
       "  </thead>\n",
       "  <tbody>\n",
       "    <tr>\n",
       "      <th>.</th>\n",
       "      <td>0.058921</td>\n",
       "    </tr>\n",
       "    <tr>\n",
       "      <th>,</th>\n",
       "      <td>0.051453</td>\n",
       "    </tr>\n",
       "    <tr>\n",
       "      <th>og</th>\n",
       "      <td>0.025297</td>\n",
       "    </tr>\n",
       "    <tr>\n",
       "      <th>i</th>\n",
       "      <td>0.021425</td>\n",
       "    </tr>\n",
       "    <tr>\n",
       "      <th>det</th>\n",
       "      <td>0.012728</td>\n",
       "    </tr>\n",
       "  </tbody>\n",
       "</table>\n",
       "</div>"
      ],
      "text/plain": [
       "          tot\n",
       ".    0.058921\n",
       ",    0.051453\n",
       "og   0.025297\n",
       "i    0.021425\n",
       "det  0.012728"
      ]
     },
     "execution_count": 72,
     "metadata": {},
     "output_type": "execute_result"
    }
   ],
   "source": [
    "nb.frame_sort(totals).head(5)"
   ]
  },
  {
   "cell_type": "markdown",
   "metadata": {},
   "source": [
    "Normaliser og setter dem sammen for et lite display. Her er det høyest frekvens som gjelder, og interessant nok, er det mye punktum og lite komma i Bringsværs produksjon. Kan tyde på barnebøker."
   ]
  },
  {
   "cell_type": "code",
   "execution_count": 15,
   "metadata": {},
   "outputs": [
    {
     "data": {
      "text/plain": [
       "True"
      ]
     },
     "execution_count": 15,
     "metadata": {},
     "output_type": "execute_result"
    }
   ],
   "source": [
    "nb.normalize_corpus_dataframe(bring_df)\n",
    "nb.normalize_corpus_dataframe(totals)"
   ]
  },
  {
   "cell_type": "code",
   "execution_count": 50,
   "metadata": {},
   "outputs": [
    {
     "data": {
      "text/html": [
       "<div>\n",
       "<style scoped>\n",
       "    .dataframe tbody tr th:only-of-type {\n",
       "        vertical-align: middle;\n",
       "    }\n",
       "\n",
       "    .dataframe tbody tr th {\n",
       "        vertical-align: top;\n",
       "    }\n",
       "\n",
       "    .dataframe thead th {\n",
       "        text-align: right;\n",
       "    }\n",
       "</style>\n",
       "<table border=\"1\" class=\"dataframe\">\n",
       "  <thead>\n",
       "    <tr style=\"text-align: right;\">\n",
       "      <th></th>\n",
       "      <th>counts</th>\n",
       "      <th>tot</th>\n",
       "    </tr>\n",
       "  </thead>\n",
       "  <tbody>\n",
       "    <tr>\n",
       "      <th>.</th>\n",
       "      <td>0.073112</td>\n",
       "      <td>0.058921</td>\n",
       "    </tr>\n",
       "    <tr>\n",
       "      <th>,</th>\n",
       "      <td>0.027570</td>\n",
       "      <td>0.051453</td>\n",
       "    </tr>\n",
       "    <tr>\n",
       "      <th>og</th>\n",
       "      <td>0.023162</td>\n",
       "      <td>0.025297</td>\n",
       "    </tr>\n",
       "    <tr>\n",
       "      <th>i</th>\n",
       "      <td>0.014587</td>\n",
       "      <td>0.021425</td>\n",
       "    </tr>\n",
       "    <tr>\n",
       "      <th>det</th>\n",
       "      <td>0.016430</td>\n",
       "      <td>0.012728</td>\n",
       "    </tr>\n",
       "    <tr>\n",
       "      <th>som</th>\n",
       "      <td>0.012791</td>\n",
       "      <td>0.012343</td>\n",
       "    </tr>\n",
       "    <tr>\n",
       "      <th>til</th>\n",
       "      <td>0.010013</td>\n",
       "      <td>0.011847</td>\n",
       "    </tr>\n",
       "    <tr>\n",
       "      <th>er</th>\n",
       "      <td>0.015467</td>\n",
       "      <td>0.011580</td>\n",
       "    </tr>\n",
       "    <tr>\n",
       "      <th>av</th>\n",
       "      <td>0.009245</td>\n",
       "      <td>0.010948</td>\n",
       "    </tr>\n",
       "    <tr>\n",
       "      <th>en</th>\n",
       "      <td>0.012906</td>\n",
       "      <td>0.010783</td>\n",
       "    </tr>\n",
       "  </tbody>\n",
       "</table>\n",
       "</div>"
      ],
      "text/plain": [
       "       counts       tot\n",
       ".    0.073112  0.058921\n",
       ",    0.027570  0.051453\n",
       "og   0.023162  0.025297\n",
       "i    0.014587  0.021425\n",
       "det  0.016430  0.012728\n",
       "som  0.012791  0.012343\n",
       "til  0.010013  0.011847\n",
       "er   0.015467  0.011580\n",
       "av   0.009245  0.010948\n",
       "en   0.012906  0.010783"
      ]
     },
     "execution_count": 50,
     "metadata": {},
     "output_type": "execute_result"
    }
   ],
   "source": [
    "nb.frame_sort(pd.concat([bring_df, totals], axis=1, sort=False)).head(10)"
   ]
  },
  {
   "cell_type": "markdown",
   "metadata": {},
   "source": [
    "Gjennomfører en sammenligning ved å dividere Bringsværs data på totalen for bokhylla."
   ]
  },
  {
   "cell_type": "code",
   "execution_count": 16,
   "metadata": {},
   "outputs": [],
   "source": [
    "compare = lambda x, y = totals['tot']: nb.frame_sort(nb.frame(x/y))"
   ]
  },
  {
   "cell_type": "code",
   "execution_count": 18,
   "metadata": {},
   "outputs": [],
   "source": [
    "forskjell = compare(bring_df['counts'])"
   ]
  },
  {
   "cell_type": "code",
   "execution_count": 52,
   "metadata": {},
   "outputs": [
    {
     "data": {
      "text/html": [
       "<div>\n",
       "<style scoped>\n",
       "    .dataframe tbody tr th:only-of-type {\n",
       "        vertical-align: middle;\n",
       "    }\n",
       "\n",
       "    .dataframe tbody tr th {\n",
       "        vertical-align: top;\n",
       "    }\n",
       "\n",
       "    .dataframe thead th {\n",
       "        text-align: right;\n",
       "    }\n",
       "</style>\n",
       "<table border=\"1\" class=\"dataframe\">\n",
       "  <thead>\n",
       "    <tr style=\"text-align: right;\">\n",
       "      <th></th>\n",
       "      <th>0</th>\n",
       "    </tr>\n",
       "  </thead>\n",
       "  <tbody>\n",
       "    <tr>\n",
       "      <th>Khan</th>\n",
       "      <td>88.724155</td>\n",
       "    </tr>\n",
       "    <tr>\n",
       "      <th>Nigel</th>\n",
       "      <td>81.561512</td>\n",
       "    </tr>\n",
       "    <tr>\n",
       "      <th>ANDERS</th>\n",
       "      <td>72.605932</td>\n",
       "    </tr>\n",
       "    <tr>\n",
       "      <th>Mika</th>\n",
       "      <td>71.875797</td>\n",
       "    </tr>\n",
       "    <tr>\n",
       "      <th>Loke</th>\n",
       "      <td>62.996699</td>\n",
       "    </tr>\n",
       "    <tr>\n",
       "      <th>Hildur</th>\n",
       "      <td>54.135528</td>\n",
       "    </tr>\n",
       "    <tr>\n",
       "      <th>Nøff</th>\n",
       "      <td>53.156186</td>\n",
       "    </tr>\n",
       "    <tr>\n",
       "      <th>Lester</th>\n",
       "      <td>49.357471</td>\n",
       "    </tr>\n",
       "    <tr>\n",
       "      <th>Lilli</th>\n",
       "      <td>40.031855</td>\n",
       "    </tr>\n",
       "    <tr>\n",
       "      <th>Ker</th>\n",
       "      <td>38.654280</td>\n",
       "    </tr>\n",
       "  </tbody>\n",
       "</table>\n",
       "</div>"
      ],
      "text/plain": [
       "                0\n",
       "Khan    88.724155\n",
       "Nigel   81.561512\n",
       "ANDERS  72.605932\n",
       "Mika    71.875797\n",
       "Loke    62.996699\n",
       "Hildur  54.135528\n",
       "Nøff    53.156186\n",
       "Lester  49.357471\n",
       "Lilli   40.031855\n",
       "Ker     38.654280"
      ]
     },
     "execution_count": 52,
     "metadata": {},
     "output_type": "execute_result"
    }
   ],
   "source": [
    "forskjell.head(10)"
   ]
  },
  {
   "cell_type": "markdown",
   "metadata": {},
   "source": [
    "Grupperer og sorterer resultatet på morfologiske (syntaktiske?) kategorier"
   ]
  },
  {
   "cell_type": "code",
   "execution_count": 106,
   "metadata": {},
   "outputs": [],
   "source": [
    "def mdprint(forskjell, cutoff=5):\n",
    "    categories = categorize(forskjell[forskjell > cutoff].dropna().index)\n",
    "    forms = {w:select_form(w) for w in categories['other']}\n",
    "    Grouping = {cat:[word for word in forms if forms[word] == cat] for cat in forms.values()}\n",
    "    navn = \"## Egennavn \\n\"\n",
    "    navn += ', '.join(categories['propr'])\n",
    "    pos = \"\"\n",
    "    for cat in Grouping:\n",
    "        pos += \"## \" + cat + \"\\n\"\n",
    "        pos += ', '.join(Grouping[cat]) + \"\\n\"\n",
    "    mu.printmd(navn)\n",
    "    mu.printmd(pos)\n",
    "    return"
   ]
  },
  {
   "cell_type": "code",
   "execution_count": 104,
   "metadata": {},
   "outputs": [
    {
     "data": {
      "text/markdown": [
       "## Egennavn \n",
       "Khan, Nigel, ANDERS, Mika, Loke, Hildur, Nøff, Lester, Lilli, Ker, Dragen, Klen, Moes, Elvira, Wagner, Felix, Noa, Karsten, Munken, Odin, Zeus, Frigg, Thomassen, Ricardo, Harris, Balder, Saba, Hood, Stener, Brumm, Omar, Nana, Suzanne, Frøy, Harold, Maskin, Sebastian, Gudene, Petra, JOHAN, Robin, Ch, Odins, FAR, Blomst, Low, Bing, Frøya, Djevelen, Rikke, Po, Fleming, Billy, Hund, Venter, Grønn, Slår, Ludvik, Wolfgang, Tyr, Aina, Ennå, Koln, Lillebror, Genova, Salomo, Valhall, Jovisst, Hysj, GYLDENDAL, Lar, Lik, Igor, Løp, Antagelig, Kreta, Illustrert, Holder, Buddha, Legger, Spot, Marguerite, Altfor, Ler, Graham, Troll, Langsomt, Gregorius, Marian, Nicholas, MOR, Lenge, Snakker, Hermod, Månen, Ylva, Cornelia, Kam, ALLE, Fattige, Mu, Brent, Nemlig, Tvertimot, Drømmen, Budapest, Dr, Percy, Vera, Jomfruen, Dager, Egentlig, Katten, Merket, Myten, Kaptein, Benson, Maja, Maar, Kaj, Kiev, Himmelens, Eventyret, Holde, Står, Himalaya, Åge, Alene, Trær, Halen, Holdt, Len, Imorgen, Tor, Føttene, Lot, Alexandria, Shelley, Gatene, Tenker, Hverken, Jammen, Slik, Nok, ..., AUGUST, Setter, Skrevet, Rolig, Slipp, Javisst, Egner, Sier, Esther, Winther, Ve, Og, Jeremias, Døden, Høyt, Rart, Ulven, Sitter, Prinsen, Dyrene, Manhattan, Idag, Likevel, Hører, Hel, Verst, Grå, Natt, Vale, Kjente, Rådhuset, Nixon, Hugo, Salomos, Mørket, Potter, Dypt, Tull, Vokser, Hyde, Antonius, Tarzan, Augusta, Uten, Fer, Fuglen, Dronningen, Jensen, Trenger, Pia, Prøver, Kjenner, Burde, Tennene, Hardt, Gabrielle, Tegnet, Latteren, Veggene, Venn, FanF, Gerda, Satt, Forsiktig, Armand, Englene, Hunder, Musikken, Fienden, Trodde, Prøvde, Bestemor, Bena"
      ],
      "text/plain": [
       "<IPython.core.display.Markdown object>"
      ]
     },
     "metadata": {},
     "output_type": "display_data"
    },
    {
     "data": {
      "text/markdown": [
       "## verb\n",
       "ryster, roper, rotte, klovn, omfavner, katter, slikker, brøler, hyler, troll, forkledd, ape, rir, klapper, fakler, torvet, hvisker, tennes, kledt, lener, nøler, kryper, gnir, sverm, klør, rotter, spruter, vinker, blunker, klatrer, vrir, klore, snubler, synger, jubler, avbryter, vakler, sparker, bukker, freser, nikker, aper, velter, lytter, vridde, skotter, vennet, dunker, hugger, drømte, vifter, mumler, røvet, mave, stuper, drømmer, trommer, danser, våkner, vintre, omfavne, hakker, drypper, kysser, kniver, gjemmer, løper, tramper, nøste, stønner, ler, svelger, blåser, virret, fortelles, dirrer, tromme, flokker, skyver, spretter, dempes, gråter, dreper, statuer, snuser, bukter, forvandles, logg, smi, skryter, speider, dytter, piper, spir, tøys, gnager, forvandler, leter, spytter, svømmer, skynder, tusj, blør, flykter, klorte, vinger, sperrer, triller, buret, skjelver, drøm, jager, katt, slikke, krøller, harpe, stryker, kniper, pisker, husker, smiler, nynne, vandrer, sover, vrimler, røve, knuses, drager, boble, motsi, vokter, klamrer, piler, hekser, griser, lukker, snur, sluke, knurret, kvister, nøle, klappe, våger, marsjerer, slikket, raker, sluker, hale, tygger, flokket, løfter, røk, skimter, streifer, puster, narr, fjær, hopper, leker, skremmer, slakter, kneler, skvetter, svinger, rykker, stormer, rynker, krøpet, tilber, streker, trader, rygger, glitrer, bøyer, omfavnet, baller, slukker, knekker, myter, svinet, stanser, viker, rusk, hyle, rusler, feier, spådd, rull, krype, røver, gjentar, gapte, hoster, kolliderer, pels, forsto, orker, skraper, kork, griper, revner, skygger, pinner, nikke, risset, kryp, klipper, brøle, skarve, forvandlet, flokk, gris, ruller, rister, klø, pest, drepes, smeller, etterligne, klatre, brister, heks, kjemper, misforstå, gjemme, stokker, forhekset, sier, tørker, krangler, balanserer, hveste, ryker, sprekker, begir, skriker, jakter, stakket, gidder, strammer, dytt, flyr, tenker, ører, vugge, lengter, slange, smører, skremt, brenner, blander, huk, sleper, fletter, myldret, drømt, hamrer, fløyte, skremte, klump, hilser, flimret, innrømmer, hugget, kaster, pleier, hugg, slår, slanger, prikker, fektet, suget, bretter, frykter, svir, hover, herje, gnage, råtne, lyver, kanter, trenet, snuse, bitt, smidd, løpt, forvandle, rusle\n",
       "## subst\n",
       "munken, grimaser, stenene, tigeren, kattene, labyrinten, stener, rottene, dragen, labbene, ødemarken, maven, gudene, tiger, kjempen, elefant, prins, uhyret, skapninger, demoner, elefanten, ulver, elefanter, grisen, ulvene, robot, eventyrene, kjortel, labyrint, arken, labben, kamel, legender, snuten, dukken, klåtrer, hammeren, kameler, måne, skapning, oksen, demon, frosk, hodene, scenen, stenen, grotte, krigere, halen, omveier, barnebøker, eventyr, sten, navlen, monster, korstog, drømmen, grenen, løve, djevler, hunder, bjørner, eventyret, sletten, heltene, novellen, maskinene, morfar, gudinnen, okse, skapningen, løven, halvsirkel, esel, fløyten, speilbilde, hornene, rullen, øksen, tronen, røkelse, hjørner, jungel, murene, løver, fakkel, ropene, tåke, marken, guder, ugle, klode, skuespillerne, stamfar, falk, horn, sverdet, pelsen, tyven, katten, nebbet, musene, verdener, klørne, jungelen, bål, krukken, bensinstasjonen, pus, ulv, dyrene, fjærene, novelle, puslespill, vingene, snute, synene, greven, knute, grålysningen, legenden, trekkspill, helter, hvalen, jegerne, spydet, tegneserier, helten, ørene, trådene, knuter, knokler, fakter, mytene, hundene, grisene, teltene, sverd, pilegrimer, haven, stjernene, ungarsk, hammer, prosesjon, jammen, høvding, torden, lemen, krigerne, kråke, grådighet, krampe, røvere, rustning, kroppene, prinsessen, kjerra, muslimene, felttoget, kjepp, aske, stanken, sommerfugler, tyv, vesener, nesebor, virvar, fugler, jomfruer, tungen, smeden, statue, penselen, misforståelser, knuten, manuskriptet, kropper, reiret, sheriffen, ondskapen, skyene, ørnen, lunge, hekken, sne, pungen, hoder, grotten, ridderen, månen, måfå, gåter, harer, hund, gylden, stammen, nesen, skuespillet, tyver, bulter, sæd, faen, fredløs, dronningen, udødelighet, filler, dyret, djevel, tretoppene, svane, overkropp, regnvær, ørken, nebb, flokken, håndleddet, ødeleggelsen, planeten, hjelm, puten, englene, innbinding, skuespiller, hornet, bykset, bokhandel, kunster, mytologi, dagboken, kjeften, blekksprut, smia, flik, galskap\n",
       "## adj\n",
       "stumme, mektigere, merkeligste, eventyrlige, digert, mumlende, dinglende, digre, stripete, morsomste, vrient, hylende, diger, vandrende, avvergende, pipende, kåt, trassig, lodne, barbent, fjollete, usynlig, grådige, forbannede, umulige, skurrende, dovent, vitterlig, sleipe, fillete, lumske, livløs, merkelige, hårete, underjordisk, mektigste, hese, gærne, knudrete, tålmodige, resolutt, vanvittige, jævla, underjordiske, groteske, ulykkelige, skjeggete, sovende, innsmigrende, klokere, syngende, fantastiske, gapende, veldige, bent, magiske, rullende, gåtefulle, larmende, rastløse, uvirkelig, nattlige\n",
       "## unknown\n",
       "gudenes, fiction, jeF, seF, flyvende, farver, übevegelige, eF, gyldne, istykker, kaa, hverandre., meF, trance, husveggen, sammen., hij, ingenting., tvertimot, zijn, farve, verden., farvet, übevegelig, hidden, deF, ikveld, übegripelig, mumling, barndoms, luftens, embedsmenn\n",
       "## prep\n",
       "midtveis, bakenfor\n",
       "## det\n",
       "selveste\n",
       "## adv\n",
       "naturligvis\n"
      ],
      "text/plain": [
       "<IPython.core.display.Markdown object>"
      ]
     },
     "metadata": {},
     "output_type": "display_data"
    }
   ],
   "source": [
    "mdprint(forskjell)"
   ]
  },
  {
   "cell_type": "markdown",
   "metadata": {},
   "source": [
    "Finner vekstdiagram"
   ]
  },
  {
   "cell_type": "code",
   "execution_count": 93,
   "metadata": {},
   "outputs": [
    {
     "data": {
      "text/html": [
       "<div>\n",
       "<style scoped>\n",
       "    .dataframe tbody tr th:only-of-type {\n",
       "        vertical-align: middle;\n",
       "    }\n",
       "\n",
       "    .dataframe tbody tr th {\n",
       "        vertical-align: top;\n",
       "    }\n",
       "\n",
       "    .dataframe thead th {\n",
       "        text-align: right;\n",
       "    }\n",
       "</style>\n",
       "<table border=\"1\" class=\"dataframe\">\n",
       "  <thead>\n",
       "    <tr style=\"text-align: right;\">\n",
       "      <th></th>\n",
       "      <th>urn</th>\n",
       "      <th>author</th>\n",
       "      <th>title</th>\n",
       "      <th>year</th>\n",
       "    </tr>\n",
       "  </thead>\n",
       "  <tbody>\n",
       "    <tr>\n",
       "      <th>158</th>\n",
       "      <td>2015091706060</td>\n",
       "      <td>Bringsværd, Tor Åge</td>\n",
       "      <td>Vår verden er dugg</td>\n",
       "      <td>2014</td>\n",
       "    </tr>\n",
       "  </tbody>\n",
       "</table>\n",
       "</div>"
      ],
      "text/plain": [
       "               urn               author               title  year\n",
       "158  2015091706060  Bringsværd, Tor Åge  Vår verden er dugg  2014"
      ]
     },
     "execution_count": 93,
     "metadata": {},
     "output_type": "execute_result"
    }
   ],
   "source": [
    "bring[bring.title == 'Vår verden er dugg']"
   ]
  },
  {
   "cell_type": "code",
   "execution_count": 98,
   "metadata": {},
   "outputs": [],
   "source": [
    "dugg = nb.get_freq(2015091706060, top=0, cutoff=0)"
   ]
  },
  {
   "cell_type": "code",
   "execution_count": 109,
   "metadata": {},
   "outputs": [
    {
     "data": {
      "text/html": [
       "<div>\n",
       "<style scoped>\n",
       "    .dataframe tbody tr th:only-of-type {\n",
       "        vertical-align: middle;\n",
       "    }\n",
       "\n",
       "    .dataframe tbody tr th {\n",
       "        vertical-align: top;\n",
       "    }\n",
       "\n",
       "    .dataframe thead th {\n",
       "        text-align: right;\n",
       "    }\n",
       "</style>\n",
       "<table border=\"1\" class=\"dataframe\">\n",
       "  <thead>\n",
       "    <tr style=\"text-align: right;\">\n",
       "      <th></th>\n",
       "      <th>0</th>\n",
       "    </tr>\n",
       "  </thead>\n",
       "  <tbody>\n",
       "    <tr>\n",
       "      <th>.</th>\n",
       "      <td>0.063008</td>\n",
       "    </tr>\n",
       "    <tr>\n",
       "      <th>,</th>\n",
       "      <td>0.034066</td>\n",
       "    </tr>\n",
       "    <tr>\n",
       "      <th>og</th>\n",
       "      <td>0.025682</td>\n",
       "    </tr>\n",
       "    <tr>\n",
       "      <th>det</th>\n",
       "      <td>0.021352</td>\n",
       "    </tr>\n",
       "    <tr>\n",
       "      <th>jeg</th>\n",
       "      <td>0.021302</td>\n",
       "    </tr>\n",
       "    <tr>\n",
       "      <th>var</th>\n",
       "      <td>0.018327</td>\n",
       "    </tr>\n",
       "    <tr>\n",
       "      <th>å</th>\n",
       "      <td>0.014863</td>\n",
       "    </tr>\n",
       "    <tr>\n",
       "      <th>i</th>\n",
       "      <td>0.013906</td>\n",
       "    </tr>\n",
       "    <tr>\n",
       "      <th>som</th>\n",
       "      <td>0.013325</td>\n",
       "    </tr>\n",
       "    <tr>\n",
       "      <th>«</th>\n",
       "      <td>0.013243</td>\n",
       "    </tr>\n",
       "  </tbody>\n",
       "</table>\n",
       "</div>"
      ],
      "text/plain": [
       "            0\n",
       ".    0.063008\n",
       ",    0.034066\n",
       "og   0.025682\n",
       "det  0.021352\n",
       "jeg  0.021302\n",
       "var  0.018327\n",
       "å    0.014863\n",
       "i    0.013906\n",
       "som  0.013325\n",
       "«    0.013243"
      ]
     },
     "execution_count": 109,
     "metadata": {},
     "output_type": "execute_result"
    }
   ],
   "source": [
    "dugg = nb.frame(dugg)\n",
    "nb.normalize_corpus_dataframe(dugg)\n",
    "dugg.head(10)"
   ]
  },
  {
   "cell_type": "code",
   "execution_count": 107,
   "metadata": {},
   "outputs": [],
   "source": [
    "dugg_forskjell = compare(dugg[0])"
   ]
  },
  {
   "cell_type": "code",
   "execution_count": 110,
   "metadata": {
    "scrolled": false
   },
   "outputs": [
    {
     "data": {
      "text/markdown": [
       "## Egennavn \n",
       "Bestefar, Rudi, Liam, Kilden, Dragen, Mormor, Ungen, Tårnet, Eli, Svart, Utrolig, Alter, Rådhuset, Halen, Ban, Bestemor, Te, Hund, Løp, Vakten, Jobben, Hverken, Rommet, Fangen, Lot, Kjøtt, Trøst, Verst, Fremdeles, Dyrene, Hjemme, Fortellingen, Tok, Maskiner, Landskapet, Dyret, Munnen, Lese, Klare, Prøvde"
      ],
      "text/plain": [
       "<IPython.core.display.Markdown object>"
      ]
     },
     "metadata": {},
     "output_type": "display_data"
    },
    {
     "data": {
      "text/markdown": [
       "## subst\n",
       "ødemarken, mødrene, muldyr, landsbyene, kjempen, årstiden, hodde, dragen, spydet, røverne, gudinnen, maskinene, stener, troppen, lampene, sekkene, flaggermus, duene, vaktene, grålysningen, lemmen, jegerne, fakkel, skapninger, biblioteket, torget, metall, eventyrene, tommel, bykset, bryggene, metallet, ropene, innbilning, skapningen, bakgården, mynten, kvisten, skogholt, finnen, labbene, bål, utkant, lamper, plasten, gårdsplassen, dyrene, dukken, drapsmann, spyd, vandringen, trappetrinn, kjortel, oppdragsgiveren, vannkanten, lasteplanet, overfallet, villdyr, fotgjengere, metallene, unnsetning, halvsirkel, døtrene, gåter, skapning, skrenten, vogner, villrede, vindkast, marken, tåke, bestefar, grimaser, bakhold, måneskinnet, stadion, historiene, ungen, kjeler, eventyret, vindpust, opprinnelsen, tilskuerne, ødeleggelser, uniformen, inngangen, viltet, kroppene, nedgangen, kjensel, kattene, besteforeldrene, flik, vognene, hansker, torner, prinsen, spaden, omvei, bitene, monster, drømmen, håndfull, håndleddet, røvere, ekteparet, løgnen, jegere, gatene, drikken, språkene, knuter, vennskapet, eventyr, rosene, forundring, prøvelse, underlivet, tryggheten, rusten, kjærester, løkke, pisken, sangene, stier, fugler, verdener, forestillingen\n",
       "## verb\n",
       "vintre, aper, sake, jaktet, fektet, jakte, hilder, buret, trøst, krus, stagge, ape, forsto, drepes, nynnet, klappe, fakler, slakter, bylt, rotter, myse, skrapet, hveste, sverm, lønte, forkorte, maskiner, munnet, befridde, dytt, kvister, kniver, godtok, greide, gynget, tråkke, boblet, dugg, trille, pare, forvridde, voktet, bakker, mørkne, stusset, vinker, utelate, galopperte, sluknet, ruvet, trøstet, vennet, nøle, klatre, lirket, dinglet, broderte, trillet, gjemme, rusket, kledt, byks, gnir, tauet, stokker, tilsto, knyte, stabler, regjerer, svelger, enset, rast, kvelder, gruet, øvde, sparker, bås, knurret, etterligne, beskyldte, dikte, trommer, klorte, klappet, stappet, blødde, orket, utrydde, tålte, dyr, fraktes, lærte, løpt, ertet, hyl, klatrer, vinger, våkne, greid, jamret, skygger, katter, trivdes, himlet, våget, slukket, roper, gnistret, jage, blør, overrasket, tygget, omringet, varmet, sprette, spytte, glapp, snar, suget, freser\n",
       "## adj\n",
       "forbudte, mumlende, digert, undrende, spisst, underjordisk, steinete, farligste, senete, knudrete, hylende, ensformige, digre, urgamle, godtroende, livløse, ekle, barnlig, ustø, merkeligste, vennlige, usett, brølende, ufattelig, trassig, vandrende, dinglende, larmende, bistert, takknemlige, livløs, gjerrig, uforstående, merkelige, andpusten, hemmelige, isnende, utydelig, mektigste, sultne, ivrige, utrygg, fabelaktig, underjordiske, ydmykende, uvante, misunnelig, bydende, kunstige, fattigere, diger, smalere\n",
       "## unknown\n",
       "bodet, bestefars, fortake, jeg-, fattigfolk, folkemunne, husveggen, tilbake., mistenksomhet, hverandre., hennes., sørsiden\n",
       "## prep\n",
       "bortom, midtveis, sørpå\n"
      ],
      "text/plain": [
       "<IPython.core.display.Markdown object>"
      ]
     },
     "metadata": {},
     "output_type": "display_data"
    }
   ],
   "source": [
    "mdprint(dugg_forskjell, cutoff=10)"
   ]
  },
  {
   "cell_type": "code",
   "execution_count": 118,
   "metadata": {},
   "outputs": [
    {
     "data": {
      "text/plain": [
       "<matplotlib.axes._subplots.AxesSubplot at 0x1fa0ecfbeb8>"
      ]
     },
     "execution_count": 118,
     "metadata": {},
     "output_type": "execute_result"
    },
    {
     "data": {
      "image/png": "[encoded data removed]",
      "text/plain": [
       "<Figure size 720x360 with 1 Axes>"
      ]
     },
     "metadata": {
      "needs_background": "light"
     },
     "output_type": "display_data"
    }
   ],
   "source": [
    "nb.plot_book_wordbags(2015091706060, \n",
    "                      {'dyr': \"tigeren kattene katter rottene dragen labbene\".split(), \n",
    "                       'fabeldyr':\"dragen gudinnen skapning skapningen\".split(),\n",
    "                       #'banditt':\"røvere drapsmann\".split(),\n",
    "                       #'sted': \"ødemarken, landsbyene, torget, bakgården, verdener, skogholt, gårdsplassen\".split(\", \")\n",
    "                      }).plot(figsize=(10,5), lw=4, alpha=0.7)"
   ]
  },
  {
   "cell_type": "code",
   "execution_count": null,
   "metadata": {},
   "outputs": [],
   "source": []
  }
 ],
 "metadata": {
  "kernelspec": {
   "display_name": "Python 3",
   "language": "python",
   "name": "python3"
  },
  "language_info": {
   "codemirror_mode": {
    "name": "ipython",
    "version": 3
   },
   "file_extension": ".py",
   "mimetype": "text/x-python",
   "name": "python",
   "nbconvert_exporter": "python",
   "pygments_lexer": "ipython3",
   "version": "3.7.3"
  }
 },
 "nbformat": 4,
 "nbformat_minor": 2
}
